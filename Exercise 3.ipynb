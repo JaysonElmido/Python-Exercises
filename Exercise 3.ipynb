{
 "cells": [
  {
   "cell_type": "markdown",
   "metadata": {},
   "source": [
    "# **Accenture Python Exercise 3**"
   ]
  },
  {
   "cell_type": "markdown",
   "metadata": {},
   "source": [
    "## 1. Upgrade the car game into next level."
   ]
  },
  {
   "cell_type": "code",
   "execution_count": 6,
   "metadata": {},
   "outputs": [
    {
     "name": "stdout",
     "output_type": "stream",
     "text": [
      "Car position: 0\n",
      "🚗--------------------\n",
      "Car position: 2\n",
      "--🚗------------------\n",
      "Car position: 4\n",
      "----🚗----------------\n",
      "Car position: 6\n",
      "------🚗--------------\n",
      "Car position: 8\n",
      "--------🚗------------\n",
      "Car position: 10\n",
      "----------🚗----------\n",
      "Car position: 12\n",
      "------------🚗--------\n",
      "Car position: 14\n",
      "--------------🚗------\n",
      "Car position: 16\n",
      "----------------🚗----\n",
      "Car position: 18\n",
      "------------------🚗--\n",
      "Car position: 20\n",
      "--------------------🚗\n",
      "Car position: 22\n",
      "----------------------🚗\n",
      "Car position: 24\n",
      "------------------------🚗\n",
      "Car position: 26\n",
      "--------------------------🚗\n",
      "Car position: 28\n",
      "----------------------------🚗\n",
      "Car position: 30\n",
      "------------------------------🚗\n",
      "Car position: 32\n",
      "--------------------------------🚗\n",
      "Car position: 34\n",
      "----------------------------------🚗\n",
      "Car position: 32\n",
      "--------------------------------🚗\n",
      "Car position: 30\n",
      "------------------------------🚗\n",
      "Car position: 28\n",
      "----------------------------🚗\n",
      "Car position: 26\n",
      "--------------------------🚗\n",
      "Car position: 24\n",
      "------------------------🚗\n",
      "Car position: 22\n",
      "----------------------🚗\n",
      "Car position: 20\n",
      "--------------------🚗\n",
      "Car position: 18\n",
      "------------------🚗--\n",
      "Car position: 16\n",
      "----------------🚗----\n",
      "Car position: 14\n",
      "--------------🚗------\n",
      "Car position: 12\n",
      "------------🚗--------\n",
      "Invalid command. Try again.\n",
      "Car position: 12\n",
      "------------🚗--------\n",
      "Quitting the game. Goodbye!\n"
     ]
    }
   ],
   "source": [
    "import random\n",
    "\n",
    "class CarGame:\n",
    "    def __init__(self):\n",
    "        self.position = 0\n",
    "        self.obstacle_position = random.randint(5, 15)\n",
    "\n",
    "    def display_position(self):\n",
    "        print(f\"Car position: {self.position}\")\n",
    "        print(\"-\" * self.position + \"🚗\" + \"-\" * (20 - self.position))\n",
    "\n",
    "    def move_forward(self):\n",
    "        self.position += 2\n",
    "\n",
    "    def move_backward(self):\n",
    "        self.position -= 2\n",
    "\n",
    "    def check_collision(self):\n",
    "        if self.position == self.obstacle_position:\n",
    "            print(\"Oh no! You collided with an obstacle. Game over!\")\n",
    "            return True\n",
    "        return False\n",
    "\n",
    "def play_car_game():\n",
    "    game = CarGame()\n",
    "\n",
    "    while True:\n",
    "        game.display_position()\n",
    "\n",
    "        command = input(\"Enter 'f' to move forward, 'b' to move backward, or 'q' to quit: \")\n",
    "\n",
    "        if command == 'f':\n",
    "            game.move_forward()\n",
    "        elif command == 'b':\n",
    "            game.move_backward()\n",
    "        elif command == 'q':\n",
    "            print(\"Quitting the game. Goodbye!\")\n",
    "            break\n",
    "        else:\n",
    "            print(\"Invalid command. Try again.\")\n",
    "\n",
    "        if game.check_collision():\n",
    "            break\n",
    "\n",
    "if __name__ == \"__main__\":\n",
    "    play_car_game()\n"
   ]
  },
  {
   "cell_type": "markdown",
   "metadata": {},
   "source": [
    "## 2. Create a program that will make the user input a number and then print the square of the number."
   ]
  },
  {
   "cell_type": "markdown",
   "metadata": {},
   "source": [
    "### a. Using Regular functions"
   ]
  },
  {
   "cell_type": "code",
   "execution_count": 1,
   "metadata": {},
   "outputs": [
    {
     "name": "stdout",
     "output_type": "stream",
     "text": [
      "The square of 57.0 is: 3249.0\n"
     ]
    }
   ],
   "source": [
    "# Get user input\n",
    "user_input = input(\"What number that you want to square?: \")\n",
    "\n",
    "# Convert the input to a floating-point number\n",
    "try:\n",
    "    number = float(user_input)\n",
    "except ValueError:\n",
    "    print(\"Invalid input. Please enter a valid number.\")\n",
    "    exit()\n",
    "\n",
    "# Calculate and print the square\n",
    "square = number ** 2\n",
    "print(f\"The square of {number} is: {square}\")\n"
   ]
  },
  {
   "cell_type": "markdown",
   "metadata": {},
   "source": [
    "### b. Using Lambda"
   ]
  },
  {
   "cell_type": "code",
   "execution_count": 8,
   "metadata": {},
   "outputs": [
    {
     "name": "stdout",
     "output_type": "stream",
     "text": [
      "The square of 4.0 is 16.0\n"
     ]
    }
   ],
   "source": [
    "# Lambda expression to calculate the square of a number\n",
    "square_number = lambda number: number ** 2\n",
    "\n",
    "# Get user input\n",
    "user_input = float(input(\"Enter a number: \"))\n",
    "\n",
    "# Use the lambda expression to calculate and print the square\n",
    "square_result = square_number(user_input)\n",
    "print(f\"The square of {user_input} is {square_result}\")\n"
   ]
  },
  {
   "cell_type": "markdown",
   "metadata": {},
   "source": [
    "## 3. Create a function that will accept N number of integers as arguments It should get the sum of all integers passed in the function and return its sum. Print the sum."
   ]
  },
  {
   "cell_type": "markdown",
   "metadata": {},
   "source": [
    "###  a. No user input (directly in code)"
   ]
  },
  {
   "cell_type": "code",
   "execution_count": 9,
   "metadata": {},
   "outputs": [
    {
     "name": "stdout",
     "output_type": "stream",
     "text": [
      "The sum of the numbers is: 75\n"
     ]
    }
   ],
   "source": [
    "def calculate_sum(*args):\n",
    "    # Check if there are any arguments\n",
    "    if not args:\n",
    "        print(\"No arguments provided.\")\n",
    "        return\n",
    "\n",
    "    # Sum the provided integers\n",
    "    total_sum = sum(args)\n",
    "\n",
    "    # Print the sum\n",
    "    print(f\"The sum of the numbers is: {total_sum}\")\n",
    "\n",
    "# Example usage:\n",
    "calculate_sum(5, 10, 15, 20, 25)\n"
   ]
  },
  {
   "cell_type": "markdown",
   "metadata": {},
   "source": [
    "### b. With user input"
   ]
  },
  {
   "cell_type": "code",
   "execution_count": 4,
   "metadata": {},
   "outputs": [
    {
     "name": "stdout",
     "output_type": "stream",
     "text": [
      "The sum of the numbers is: 75\n"
     ]
    }
   ],
   "source": [
    "def calculate_sum(*numbers):\n",
    "    # Calculate and print the sum of the numbers\n",
    "    total_sum = sum(numbers)\n",
    "    print(f\"The sum of the numbers is: {total_sum}\")\n",
    "\n",
    "def get_user_input():\n",
    "    # Get a list of integers from the user\n",
    "    input_values = input(\"Enter a list of integers separated by spaces: \").split()\n",
    "\n",
    "    # Validate and convert input to integers\n",
    "    numbers = []\n",
    "    for value in input_values:\n",
    "        if value.isdigit() or (value[1:].isdigit() and value[0] == '-'):\n",
    "            numbers.append(int(value))\n",
    "        else:\n",
    "            print(f\"Invalid input: {value} is not an integer.\")\n",
    "\n",
    "    # Call the calculate_sum function with the list of integers\n",
    "    if numbers:\n",
    "        calculate_sum(*numbers)\n",
    "    else:\n",
    "        print(\"No valid integers entered.\")\n",
    "\n",
    "# Call the function to get user input and calculate the sum\n",
    "get_user_input()\n"
   ]
  },
  {
   "cell_type": "markdown",
   "metadata": {},
   "source": [
    "# 4. Create a lambda function that takes one argument and triple the argument passed in it."
   ]
  },
  {
   "cell_type": "markdown",
   "metadata": {},
   "source": [
    "### a. No user input (Directly in code)"
   ]
  },
  {
   "cell_type": "code",
   "execution_count": 6,
   "metadata": {},
   "outputs": [
    {
     "name": "stdout",
     "output_type": "stream",
     "text": [
      "60\n"
     ]
    }
   ],
   "source": [
    "triple = lambda x: x * 3\n",
    "\n",
    "# Example usage:\n",
    "result = triple(20)\n",
    "print(result)"
   ]
  },
  {
   "cell_type": "markdown",
   "metadata": {},
   "source": [
    "### b. With user input"
   ]
  },
  {
   "cell_type": "code",
   "execution_count": 7,
   "metadata": {},
   "outputs": [
    {
     "name": "stdout",
     "output_type": "stream",
     "text": [
      "The triple of 20.0 is 60.0\n"
     ]
    }
   ],
   "source": [
    "# Lambda expression to triple a number\n",
    "triple = lambda x: x * 3\n",
    "\n",
    "# Get user input\n",
    "user_input = float(input(\"Enter a number: \"))\n",
    "\n",
    "# Use the lambda expression to triple the user input and print the result\n",
    "result = triple(user_input)\n",
    "print(f\"The triple of {user_input} is {result}\")\n"
   ]
  }
 ],
 "metadata": {
  "kernelspec": {
   "display_name": "Python 3",
   "language": "python",
   "name": "python3"
  },
  "language_info": {
   "codemirror_mode": {
    "name": "ipython",
    "version": 3
   },
   "file_extension": ".py",
   "mimetype": "text/x-python",
   "name": "python",
   "nbconvert_exporter": "python",
   "pygments_lexer": "ipython3",
   "version": "3.11.4"
  }
 },
 "nbformat": 4,
 "nbformat_minor": 2
}
