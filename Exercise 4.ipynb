{
 "cells": [
  {
   "cell_type": "markdown",
   "metadata": {},
   "source": [
    "# **Accenture Python Exercise 4**"
   ]
  },
  {
   "cell_type": "markdown",
   "metadata": {},
   "source": [
    "## 1. Create a social media user with attributes (Use constructor)"
   ]
  },
  {
   "cell_type": "code",
   "execution_count": 2,
   "metadata": {},
   "outputs": [
    {
     "name": "stdout",
     "output_type": "stream",
     "text": [
      "User: Jayson Elmido\n",
      "Likes Count: 143\n",
      "Friends:\n",
      " - Garyl\n",
      " - Amalia\n",
      " - Jacob\n",
      "\n",
      "\n",
      "User: Cardo Dalisay\n",
      "Likes Count: 44\n",
      "Friends:\n",
      " - Mark\n",
      " - Adrian\n"
     ]
    }
   ],
   "source": [
    "class SocialMediaUser:\n",
    "    def __init__(self, first_name, last_name, likes_count, friends_names=[]):\n",
    "        self.first_name = first_name\n",
    "        self.last_name = last_name\n",
    "        self.likes_count = likes_count\n",
    "        self.friends_names = friends_names\n",
    "\n",
    "    def display_user_info(self):\n",
    "        print(f\"User: {self.first_name} {self.last_name}\")\n",
    "        print(f\"Likes Count: {self.likes_count}\")\n",
    "        print(\"Friends:\")\n",
    "        for friend in self.friends_names:\n",
    "            print(f\" - {friend}\")\n",
    "\n",
    "# Example Usage:\n",
    "user1 = SocialMediaUser(\"Jayson\", \"Elmido\", 143, [\"Garyl\", \"Amalia\", \"Jacob\"])\n",
    "user2 = SocialMediaUser(\"Cardo\", \"Dalisay\", 44, [\"Mark\", \"Adrian\"])\n",
    "\n",
    "# Display user information\n",
    "user1.display_user_info()\n",
    "print(\"\\n\")\n",
    "user2.display_user_info()\n"
   ]
  },
  {
   "cell_type": "markdown",
   "metadata": {},
   "source": [
    "## 2. Create a program that will let the user register students as long as they like. After they finished registering all the students information it will be displayed using an object function."
   ]
  },
  {
   "cell_type": "code",
   "execution_count": 5,
   "metadata": {},
   "outputs": [
    {
     "name": "stdout",
     "output_type": "stream",
     "text": [
      "Student Registration Program\n"
     ]
    },
    {
     "name": "stdout",
     "output_type": "stream",
     "text": [
      "\n",
      "Student Information:\n",
      "Name: JAyson\n",
      "Course: bsie\n",
      "Year: 4\n",
      "Section: 3\n",
      "\n",
      "\n"
     ]
    }
   ],
   "source": [
    "class Student:\n",
    "    def __init__(self, name, course, year, section):\n",
    "        self.name = name\n",
    "        self.course = course\n",
    "        self.year = year\n",
    "        self.section = section\n",
    "\n",
    "    def introduce(self):\n",
    "        print(f\"Name: {self.name}\")\n",
    "        print(f\"Course: {self.course}\")\n",
    "        print(f\"Year: {self.year}\")\n",
    "        print(f\"Section: {self.section}\")\n",
    "        print(\"\\n\")\n",
    "\n",
    "# Function to register students\n",
    "def register_students():\n",
    "    students = []\n",
    "    while True:\n",
    "        name = input(\"Enter student name (or 'exit' to finish): \")\n",
    "        if name.lower() == 'exit':\n",
    "            break\n",
    "\n",
    "        course = input(\"Enter course: \")\n",
    "        year = input(\"Enter year: \")\n",
    "        section = input(\"Enter section: \")\n",
    "\n",
    "        student = Student(name, course, year, section)\n",
    "        students.append(student)\n",
    "\n",
    "    return students\n",
    "\n",
    "# Function to display student information using object function\n",
    "def display_students_info(students):\n",
    "    print(\"\\nStudent Information:\")\n",
    "    for student in students:\n",
    "        student.introduce()\n",
    "\n",
    "# Main program\n",
    "if __name__ == \"__main__\":\n",
    "    print(\"Student Registration Program\")\n",
    "    registered_students = register_students()\n",
    "    display_students_info(registered_students)\n"
   ]
  }
 ],
 "metadata": {
  "kernelspec": {
   "display_name": "Python 3",
   "language": "python",
   "name": "python3"
  },
  "language_info": {
   "codemirror_mode": {
    "name": "ipython",
    "version": 3
   },
   "file_extension": ".py",
   "mimetype": "text/x-python",
   "name": "python",
   "nbconvert_exporter": "python",
   "pygments_lexer": "ipython3",
   "version": "3.11.4"
  }
 },
 "nbformat": 4,
 "nbformat_minor": 2
}
