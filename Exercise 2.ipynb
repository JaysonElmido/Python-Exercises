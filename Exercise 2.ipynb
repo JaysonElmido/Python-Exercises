{
 "cells": [
  {
   "cell_type": "markdown",
   "metadata": {},
   "source": [
    "# **Accenture Python Exercise 2**"
   ]
  },
  {
   "cell_type": "markdown",
   "metadata": {},
   "source": [
    "## 1. Make a 3 questions quiz game. Then at the end print the total score over the number of items."
   ]
  },
  {
   "cell_type": "code",
   "execution_count": 4,
   "metadata": {},
   "outputs": [
    {
     "name": "stdout",
     "output_type": "stream",
     "text": [
      "Hi Welcome to Python Short Quiz Game!\n",
      "Welcome to the Quiz Game, Jayson! Good luck!\n",
      "\n",
      "Q1: What is the powerhouse of the cell?\n",
      "Correct!\n",
      "\n",
      "Q2: Who is considered to be the father of industrial engineering?\n",
      "Incorrect. The correct answer is 'Frederick Taylor'.\n",
      "\n",
      "Q3: A graph that indicates the frequency of defects, as well as their cumulative impact.?\n",
      "Correct!\n",
      "\n",
      "Result: You got 2 out of 3. Well done, Jayson!\n"
     ]
    }
   ],
   "source": [
    "def quiz_game():\n",
    "    print(\"Hi Welcome to Python Short Quiz Game!\")\n",
    "    play_game = input(\"Are you ready to play? (Yes or No): \").lower()\n",
    "\n",
    "    if play_game != 'yes':\n",
    "        print(\"Maybe next time. Goodbye!\")\n",
    "        return\n",
    "\n",
    "    name = input(\"What is your name? \")\n",
    "    print(f\"Welcome to the Quiz Game, {name}! Good luck!\")\n",
    "\n",
    "    score = 0\n",
    "\n",
    "    # Question No.1\n",
    "    print(\"\\nQ1: What is the powerhouse of the cell?\")\n",
    "    answer1 = input(\"Your answer: \").lower()\n",
    "    if answer1 == \"mitochondria\":\n",
    "        print(\"Correct!\")\n",
    "        score += 1\n",
    "    else:\n",
    "        print(\"Incorrect. The correct answer is 'Mitochondria'.\")\n",
    "\n",
    "    # Question No.2\n",
    "    print(\"\\nQ2: Who is considered to be the father of industrial engineering?\")\n",
    "    answer2 = input(\"Your answer: \").lower()\n",
    "    if answer2 == \"frederick taylor\":\n",
    "        print(\"Correct!\")\n",
    "        score += 1\n",
    "    else:\n",
    "        print(\"Incorrect. The correct answer is 'Frederick Taylor'.\")\n",
    "\n",
    "    # Question No.3\n",
    "    print(\"\\nQ3: A graph that indicates the frequency of defects, as well as their cumulative impact.?\")\n",
    "    answer3 = input(\"Your answer: \").lower()\n",
    "    if answer3 == \"pareto chart\":\n",
    "        print(\"Correct!\")\n",
    "        score += 1\n",
    "    else:\n",
    "        print(\"Incorrect. The correct answer is 'Pareto Chart'.\")\n",
    "\n",
    "    print(f\"\\nResult: You got {score} out of 3. Well done, {name}!\")\n",
    "\n",
    "# Call the function\n",
    "quiz_game()\n"
   ]
  },
  {
   "cell_type": "markdown",
   "metadata": {},
   "source": [
    "##  2. Build a number guessing game with 3 guesses limit."
   ]
  },
  {
   "cell_type": "code",
   "execution_count": 5,
   "metadata": {},
   "outputs": [
    {
     "name": "stdout",
     "output_type": "stream",
     "text": [
      "\n",
      "Welcome to the Number Guessing Game!\n",
      "Guess the number between 1 and 10. You have 3 attempts.\n",
      "Wrong answer. Try again.\n",
      "Wrong answer. Try again.\n",
      "Congratulations! You guessed the correct number 6 in 3 attempts.\n"
     ]
    }
   ],
   "source": [
    "def guess_the_number_game():\n",
    "    secret_number = 6\n",
    "    attempts_limit = 3\n",
    "\n",
    "    while True:\n",
    "        print(\"\\nWelcome to the Number Guessing Game!\")\n",
    "        print(f\"Guess the number between 1 and 10. You have {attempts_limit} attempts.\")\n",
    "\n",
    "        attempts = 0\n",
    "\n",
    "        while attempts < attempts_limit:\n",
    "            guess = int(input(\"Enter your guess: \"))\n",
    "            attempts += 1\n",
    "\n",
    "            if guess == secret_number:\n",
    "                print(f\"Congratulations! You guessed the correct number {secret_number} in {attempts} attempts.\")\n",
    "                break\n",
    "            else:\n",
    "                print(\"Wrong answer. Try again.\")\n",
    "\n",
    "        else:\n",
    "            print(f\"Sorry, you've run out of attempts. The correct number was {secret_number}.\")\n",
    "\n",
    "        play_again = input(\"Do you want to play again? (yes/no): \").lower()\n",
    "        if play_again != 'yes':\n",
    "            break\n",
    "\n",
    "guess_the_number_game()"
   ]
  },
  {
   "cell_type": "markdown",
   "metadata": {},
   "source": [
    "## 3. Get the total amount in the list (prices = [10, 20, 30]) using a for loop.\n"
   ]
  },
  {
   "cell_type": "code",
   "execution_count": 6,
   "metadata": {},
   "outputs": [
    {
     "name": "stdout",
     "output_type": "stream",
     "text": [
      "Total Amount: 60\n"
     ]
    }
   ],
   "source": [
    "# List of prices\n",
    "prices = [10, 20, 30]\n",
    "\n",
    "# Initialize total amount\n",
    "total_amount = 0\n",
    "\n",
    "# Iterate through the list using a for loop\n",
    "for price in prices:\n",
    "    total_amount += price\n",
    "\n",
    "# Print the total amount\n",
    "print(\"Total Amount:\", total_amount)\n"
   ]
  },
  {
   "cell_type": "markdown",
   "metadata": {},
   "source": [
    "## 4.  Using the given collection. Print them in a way that you will distinguish who’s in the Python/AI  learners and the web dev learners. Use nested for loop."
   ]
  },
  {
   "cell_type": "code",
   "execution_count": 8,
   "metadata": {},
   "outputs": [
    {
     "name": "stdout",
     "output_type": "stream",
     "text": [
      "Python/AI\n",
      "- Jay\n",
      "- Juannalyn\n",
      "- Ezekiel\n",
      "Web dev\n",
      "- John\n",
      "- Jane\n",
      "- Kat\n"
     ]
    }
   ],
   "source": [
    "learners = [\n",
    "    [\"Python/AI\", [\"Jay\", \"Juannalyn\", \"Ezekiel\"]],\n",
    "    [\"Web dev\", [\"John\", \"Jane\", \"Kat\"]]\n",
    "]\n",
    "\n",
    "# Iterate through the outer list\n",
    "for category in learners:\n",
    "    # Print the category (Python/AI or Web dev)\n",
    "    print(category[0])\n",
    "\n",
    "    # Iterate through the inner list of learners\n",
    "    for learner in category[1]:\n",
    "        print(f\"- {learner}\")\n"
   ]
  }
 ],
 "metadata": {
  "kernelspec": {
   "display_name": "Python 3",
   "language": "python",
   "name": "python3"
  },
  "language_info": {
   "codemirror_mode": {
    "name": "ipython",
    "version": 3
   },
   "file_extension": ".py",
   "mimetype": "text/x-python",
   "name": "python",
   "nbconvert_exporter": "python",
   "pygments_lexer": "ipython3",
   "version": "3.11.4"
  }
 },
 "nbformat": 4,
 "nbformat_minor": 2
}
