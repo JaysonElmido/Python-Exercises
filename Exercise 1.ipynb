{
 "cells": [
  {
   "cell_type": "markdown",
   "metadata": {},
   "source": [
    "# **Accenture Python Exercise 1**"
   ]
  },
  {
   "cell_type": "markdown",
   "metadata": {},
   "source": [
    "## 1. We checked in a patient named John Smith. He is 20 years old and is a new patient. Identify 3 variables."
   ]
  },
  {
   "cell_type": "code",
   "execution_count": 1,
   "metadata": {},
   "outputs": [],
   "source": [
    "# Patient information\n",
    "patient_name = \"John Smith\"\n",
    "patient_age = 20\n",
    "new_patient = True"
   ]
  },
  {
   "cell_type": "markdown",
   "metadata": {},
   "source": [
    "## 2. Ask two questions: A person’s name and favorite color. Then print a message like “Jay likes black”.\n"
   ]
  },
  {
   "cell_type": "code",
   "execution_count": 2,
   "metadata": {},
   "outputs": [
    {
     "name": "stdout",
     "output_type": "stream",
     "text": [
      "Jayson likes Red.\n"
     ]
    }
   ],
   "source": [
    "# Ask for the person's name\n",
    "person_name = input(\"What is your name? \")\n",
    "\n",
    "# Ask for their favorite color\n",
    "favorite_color = input(\"What is your favorite color? \")\n",
    "\n",
    "# Print the message\n",
    "print(f\"{person_name} likes {favorite_color}.\")"
   ]
  },
  {
   "cell_type": "markdown",
   "metadata": {},
   "source": [
    "## 3. Ask a user their weight (in pounds), convert it to kilograms, and print it on the terminal."
   ]
  },
  {
   "cell_type": "code",
   "execution_count": 3,
   "metadata": {},
   "outputs": [
    {
     "name": "stdout",
     "output_type": "stream",
     "text": [
      "Your weight in kilograms is: 29.48 kg\n"
     ]
    }
   ],
   "source": [
    "# Ask the user for their weight in pounds\n",
    "weight_pounds = float(input(\"Enter your weight in pounds: \"))\n",
    "\n",
    "# Convert pounds to kilograms\n",
    "weight_kilograms = weight_pounds * 0.453592\n",
    "\n",
    "# Print the weight in kilograms\n",
    "print(f\"Your weight in kilograms is: {weight_kilograms:.2f} kg\")"
   ]
  },
  {
   "cell_type": "markdown",
   "metadata": {},
   "source": [
    "## 4. Create a program that will perform one of the arithmetic operators when the user inputs 2 numbers."
   ]
  },
  {
   "cell_type": "code",
   "execution_count": 4,
   "metadata": {},
   "outputs": [
    {
     "name": "stdout",
     "output_type": "stream",
     "text": [
      "The result of 4.0 * 2.0 is: 8.0\n"
     ]
    }
   ],
   "source": [
    "# Arithmetic operations program\n",
    "def perform_operation(num1, num2, operator):\n",
    "   if operator == '+':\n",
    "       return num1 + num2\n",
    "   elif operator == '-':\n",
    "       return num1 - num2\n",
    "   elif operator == '*':\n",
    "       return num1 * num2\n",
    "   elif operator == '/':\n",
    "# Check if the denominator is not zero\n",
    "       if num2 != 0:\n",
    "           return num1 / num2\n",
    "       else:\n",
    "           return \"Cannot divide by zero.\"\n",
    "   else:\n",
    "       return \"Invalid operator.\"\n",
    "\n",
    "# Get input from the user\n",
    "num1 = float(input(\"Enter the first number: \"))\n",
    "num2 = float(input(\"Enter the second number: \"))\n",
    "operator = input(\"Enter the operator (+, -, *, /): \")\n",
    "\n",
    "# Perform the operation\n",
    "result = perform_operation(num1, num2, operator)\n",
    "\n",
    "# Display the result\n",
    "print(f\"The result of {num1} {operator} {num2} is: {result}\")"
   ]
  },
  {
   "cell_type": "markdown",
   "metadata": {},
   "source": [
    "## 5. Make a list. Do the following"
   ]
  },
  {
   "cell_type": "markdown",
   "metadata": {},
   "source": [
    "### a. Print the whole list"
   ]
  },
  {
   "cell_type": "code",
   "execution_count": 5,
   "metadata": {},
   "outputs": [
    {
     "name": "stdout",
     "output_type": "stream",
     "text": [
      "['apple', 'banana', 'grapes', 'pineapple']\n"
     ]
    }
   ],
   "source": [
    "# List of Fruits?\n",
    "fruits = [\"apple\", \"banana\", \"grapes\", \"pineapple\"]\n",
    "print(fruits)"
   ]
  },
  {
   "cell_type": "markdown",
   "metadata": {},
   "source": [
    "### b. Assign items to the list"
   ]
  },
  {
   "cell_type": "code",
   "execution_count": 6,
   "metadata": {},
   "outputs": [
    {
     "name": "stdout",
     "output_type": "stream",
     "text": [
      "['apple', 'banana', 'grapes', 'pineapple', 'melon', 'strawberry', 'blueberry']\n"
     ]
    }
   ],
   "source": [
    "# Assigning Additional Fruits to the List\n",
    "fruits.extend([\"melon\", \"strawberry\", \"blueberry\"])\n",
    "print(fruits)"
   ]
  },
  {
   "cell_type": "markdown",
   "metadata": {},
   "source": [
    "### c. Add an item at the end of the list."
   ]
  },
  {
   "cell_type": "code",
   "execution_count": 7,
   "metadata": {},
   "outputs": [
    {
     "name": "stdout",
     "output_type": "stream",
     "text": [
      "['apple', 'banana', 'grapes', 'pineapple', 'melon', 'strawberry', 'blueberry', 'mango']\n"
     ]
    }
   ],
   "source": [
    "# Add \"mango\" to the End of the List\n",
    "fruits.append(\"mango\")\n",
    "print(fruits)"
   ]
  },
  {
   "cell_type": "markdown",
   "metadata": {},
   "source": [
    "### d. Insert item to the list."
   ]
  },
  {
   "cell_type": "code",
   "execution_count": 8,
   "metadata": {},
   "outputs": [
    {
     "name": "stdout",
     "output_type": "stream",
     "text": [
      "['apple', 'banana', 'grapes', 'papaya', 'pineapple', 'melon', 'strawberry', 'blueberry', 'mango']\n"
     ]
    }
   ],
   "source": [
    "# Insert \"papaya\" at the Fourth Position\n",
    "fruits.insert(3, \"papaya\")\n",
    "print(fruits)"
   ]
  },
  {
   "cell_type": "markdown",
   "metadata": {},
   "source": [
    "### e. Clear the list"
   ]
  },
  {
   "cell_type": "code",
   "execution_count": 9,
   "metadata": {},
   "outputs": [
    {
     "name": "stdout",
     "output_type": "stream",
     "text": [
      "[]\n"
     ]
    }
   ],
   "source": [
    "# Clear the List\n",
    "fruits.clear()\n",
    "print(fruits)"
   ]
  }
 ],
 "metadata": {
  "kernelspec": {
   "display_name": "Python 3",
   "language": "python",
   "name": "python3"
  },
  "language_info": {
   "codemirror_mode": {
    "name": "ipython",
    "version": 3
   },
   "file_extension": ".py",
   "mimetype": "text/x-python",
   "name": "python",
   "nbconvert_exporter": "python",
   "pygments_lexer": "ipython3",
   "version": "3.11.4"
  }
 },
 "nbformat": 4,
 "nbformat_minor": 2
}
